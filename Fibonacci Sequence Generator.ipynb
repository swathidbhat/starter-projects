{
 "cells": [
  {
   "cell_type": "code",
   "execution_count": null,
   "metadata": {},
   "outputs": [],
   "source": [
    "# Code to build a Fibonacci sequence upto nth place, where n is given by the user\n",
    "\n",
    "# ask users to provide n digit\n",
    "def ask_user():\n",
    "    state = False \n",
    "    while state == False:\n",
    "        try:\n",
    "            n_digit = int(input('Enter n - the place up to which you want to generate Fibonacci sequence!'))\n",
    "            state = True\n",
    "        except:\n",
    "            print ('That does not look right. Please enter a natural number, not a decimal.')\n",
    "    return n_digit"
   ]
  },
  {
   "cell_type": "code",
   "execution_count": null,
   "metadata": {},
   "outputs": [],
   "source": [
    "# Function to build a Fibonacci sequence up to n places\n",
    "def fib_builder(n_digit):\n",
    "    i = 1\n",
    "    m = n_digit - 2\n",
    "    fib_lst = [0, 1, 1]\n",
    "    while i < m:\n",
    "        x = fib_lst[i] + fib_lst[i+1]\n",
    "        fib_lst.append(x)\n",
    "        i = i+1\n",
    "    print(fib_lst)"
   ]
  },
  {
   "cell_type": "code",
   "execution_count": null,
   "metadata": {},
   "outputs": [],
   "source": [
    "# function to ask players if they want to continue generating Fibonacci sequence\n",
    "def ask_player():\n",
    "    state = False \n",
    "    while state == False:\n",
    "        try:\n",
    "            reply = int(input('Do you want to continue generating Fibonacci sequence? Press 1 to continue, 2 to stop.'))\n",
    "            if (reply == 1) or (reply == 2):\n",
    "                state = True \n",
    "                \n",
    "            else:\n",
    "                print ('That does not look right. Make sure you enter 1 or 2')\n",
    "        except:\n",
    "            print('That does not look right. Make sure you enter 1 or 2')\n",
    "        \n",
    "    return reply "
   ]
  },
  {
   "cell_type": "code",
   "execution_count": null,
   "metadata": {},
   "outputs": [],
   "source": [
    "# putting together functions to set up the program \n",
    "play = True \n",
    "while play == True:\n",
    "    n = ask_user()\n",
    "    fib_builder(n)\n",
    "    choice = ask_player()\n",
    "    \n",
    "    if choice == 2:\n",
    "        play = False\n",
    "        print('Thanks for playing. See you again!')"
   ]
  }
 ],
 "metadata": {
  "kernelspec": {
   "display_name": "Python 3",
   "language": "python",
   "name": "python3"
  },
  "language_info": {
   "codemirror_mode": {
    "name": "ipython",
    "version": 3
   },
   "file_extension": ".py",
   "mimetype": "text/x-python",
   "name": "python",
   "nbconvert_exporter": "python",
   "pygments_lexer": "ipython3",
   "version": "3.7.3"
  }
 },
 "nbformat": 4,
 "nbformat_minor": 2
}
