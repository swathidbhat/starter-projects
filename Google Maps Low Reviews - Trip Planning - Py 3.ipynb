{
 "cells": [
  {
   "cell_type": "code",
   "execution_count": 1,
   "metadata": {},
   "outputs": [
    {
     "name": "stdout",
     "output_type": "stream",
     "text": [
      "Requirement already satisfied: google-play-scraper in c:\\programdata\\anaconda3\\lib\\site-packages (1.0.0)\n"
     ]
    }
   ],
   "source": [
    "!pip install google-play-scraper"
   ]
  },
  {
   "cell_type": "code",
   "execution_count": 2,
   "metadata": {},
   "outputs": [
    {
     "name": "stdout",
     "output_type": "stream",
     "text": [
      "Requirement already satisfied: pandas in c:\\users\\swathi\\appdata\\roaming\\python\\python37\\site-packages (1.3.5)\n",
      "Requirement already satisfied: numpy>=1.17.3; platform_machine != \"aarch64\" and platform_machine != \"arm64\" and python_version < \"3.10\" in c:\\users\\swathi\\appdata\\roaming\\python\\python37\\site-packages (from pandas) (1.21.6)\n",
      "Requirement already satisfied: python-dateutil>=2.7.3 in c:\\programdata\\anaconda3\\lib\\site-packages (from pandas) (2.8.0)\n",
      "Requirement already satisfied: pytz>=2017.3 in c:\\programdata\\anaconda3\\lib\\site-packages (from pandas) (2018.9)\n",
      "Requirement already satisfied: six>=1.5 in c:\\users\\swathi\\appdata\\roaming\\python\\python37\\site-packages (from python-dateutil>=2.7.3->pandas) (1.15.0)\n"
     ]
    }
   ],
   "source": [
    "!pip install pandas"
   ]
  },
  {
   "cell_type": "code",
   "execution_count": 17,
   "metadata": {},
   "outputs": [],
   "source": [
    "import pandas as pd\n",
    "from google_play_scraper import Sort, reviews\n",
    "\n",
    "def fetch_reviews(app_id, keyword_list, max_reviews=2000):\n",
    "    # Fetch reviews with a maximum of 'max_reviews' and a rating of 2 or below.\n",
    "    result, continuation_token = reviews(\n",
    "        app_id,\n",
    "        lang='en',  # Use English language reviews\n",
    "        country='us',  # Fetch reviews from the US\n",
    "        sort=Sort.NEWEST,  # Sort by newest reviews\n",
    "        count=max_reviews,\n",
    "        filter_score_with = 1  # Filter reviews with a score of 2 or less\n",
    "    )\n",
    "    \n",
    "    # Convert to DataFrame\n",
    "    reviews_df = pd.DataFrame(result)\n",
    "    \n",
    "    # Filter reviews that contain any of the specified keywords related to trip planning\n",
    "    trip_planning_reviews = reviews_df[reviews_df['content'].str.contains('|'.join(keyword_list), case=False, na=False)]\n",
    "    \n",
    "    return trip_planning_reviews"
   ]
  },
  {
   "cell_type": "code",
   "execution_count": 18,
   "metadata": {},
   "outputs": [
    {
     "name": "stdout",
     "output_type": "stream",
     "text": [
      "                                               content  score  \\\n",
      "0    No idea what the latest update has done. Navig...      1   \n",
      "5    It used to be a great app. But, very recently,...      1   \n",
      "8                                  Slow to load routes      1   \n",
      "12   UPDATE: I was offered to fix of clearing my ca...      1   \n",
      "28   Terrible route guidance-- Google maps used to ...      1   \n",
      "..                                                 ...    ...   \n",
      "386  After new update the app do not search for rou...      1   \n",
      "388  Using this for my daily route delivery and it ...      1   \n",
      "392  Google maps has been my go to app for Navigati...      1   \n",
      "396  Shows the wrong route to get to my house,have ...      1   \n",
      "397  Why suddenly become offline after the latest u...      1   \n",
      "\n",
      "                     at  \n",
      "0   2024-04-20 11:09:16  \n",
      "5   2024-04-20 10:28:02  \n",
      "8   2024-04-20 09:24:10  \n",
      "12  2024-04-20 08:19:09  \n",
      "28  2024-04-20 06:16:39  \n",
      "..                  ...  \n",
      "386 2024-04-17 20:44:17  \n",
      "388 2024-04-17 20:27:27  \n",
      "392 2024-04-17 20:03:51  \n",
      "396 2024-04-17 19:39:25  \n",
      "397 2024-04-17 19:37:37  \n",
      "\n",
      "[72 rows x 3 columns]\n"
     ]
    }
   ],
   "source": [
    "# Define the app id for Google Maps and relevant keywords\n",
    "app_id = 'com.google.android.apps.maps'  # Google Maps' Play Store ID\n",
    "keywords = ['trip planning', 'route', 'routing', 'navigate', 'navigation', 'overseas', 'foreign', 'unknown' \n",
    "            'itinerary', 'travel', 'offline', 'plan', 'planning', 'landmarks', 'lost', 'interest', 'detours', 'road trip']\n",
    "\n",
    "# Fetch and filter reviews\n",
    "filtered_reviews = fetch_reviews(app_id, keywords)\n",
    "\n",
    "# Display the filtered reviews in a DataFrame\n",
    "print(filtered_reviews[['content', 'score', 'at']])  # Show review text, score, and date"
   ]
  },
  {
   "cell_type": "code",
   "execution_count": 19,
   "metadata": {},
   "outputs": [],
   "source": [
    "# Save the DataFrame to a CSV file\n",
    "filtered_reviews[['content', 'score', 'at']].to_csv('trip_reviews_1_star.csv', index=False)"
   ]
  },
  {
   "cell_type": "code",
   "execution_count": 20,
   "metadata": {},
   "outputs": [
    {
     "name": "stdout",
     "output_type": "stream",
     "text": [
      "Number of rows: 72\n"
     ]
    }
   ],
   "source": [
    "# Print the number of rows using len()\n",
    "print(\"Number of rows:\", len(filtered_reviews))"
   ]
  }
 ],
 "metadata": {
  "kernelspec": {
   "display_name": "Python 3",
   "language": "python",
   "name": "python3"
  },
  "language_info": {
   "codemirror_mode": {
    "name": "ipython",
    "version": 3
   },
   "file_extension": ".py",
   "mimetype": "text/x-python",
   "name": "python",
   "nbconvert_exporter": "python",
   "pygments_lexer": "ipython3",
   "version": "3.7.3"
  }
 },
 "nbformat": 4,
 "nbformat_minor": 2
}
