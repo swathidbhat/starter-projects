{
 "cells": [
  {
   "cell_type": "code",
   "execution_count": null,
   "metadata": {},
   "outputs": [],
   "source": [
    "# A command-line app that users can utilise to check if any year input by them is a leap year. \n",
    "\n",
    "def leap_checker():\n",
    "    state = False \n",
    "    while state == False:\n",
    "        try:\n",
    "            year = int(input('Enter year that you want to check!'))\n",
    "            state = True\n",
    "        except:\n",
    "            print ('Sorry that does not look right. Please enter a correct year.')\n",
    "    if year % 4 == 0:\n",
    "        print (year, 'is a Leap Year!')\n",
    "    else:\n",
    "        print (year, 'is not a Leap Year')\n"
   ]
  },
  {
   "cell_type": "code",
   "execution_count": null,
   "metadata": {},
   "outputs": [],
   "source": [
    "leap_checker()"
   ]
  }
 ],
 "metadata": {
  "kernelspec": {
   "display_name": "Python 3",
   "language": "python",
   "name": "python3"
  },
  "language_info": {
   "codemirror_mode": {
    "name": "ipython",
    "version": 3
   },
   "file_extension": ".py",
   "mimetype": "text/x-python",
   "name": "python",
   "nbconvert_exporter": "python",
   "pygments_lexer": "ipython3",
   "version": "3.7.3"
  }
 },
 "nbformat": 4,
 "nbformat_minor": 2
}
