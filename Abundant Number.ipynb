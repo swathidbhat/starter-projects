{
 "cells": [
  {
   "cell_type": "code",
   "execution_count": 1,
   "metadata": {},
   "outputs": [],
   "source": [
    "# Problem: For a given number m, find the next lowest abundant number. An abundant number is one where the sum of its proper\n",
    "# divisors exceeds the number itself. 12 is an abundant number because the sum of its proper divisors (1,2,3,4,6) 16 > 12. \n",
    "\n",
    "# step 1: function to check if a given number is an abundant number\n",
    "def ab_checker(n):\n",
    "    i = 1 \n",
    "    sums = 0\n",
    "    while i < n:\n",
    "        if n%i == 0:\n",
    "            sums = sums + i\n",
    "        i = i + 1 \n",
    "    if sums > n:\n",
    "        return True\n",
    "    else:\n",
    "        return False"
   ]
  },
  {
   "cell_type": "code",
   "execution_count": 3,
   "metadata": {},
   "outputs": [],
   "source": [
    "# step 2: for a given number m, function to find the next lowest abundant number\n",
    "def low_ab():\n",
    "    m = int(input('Enter a number and we will find the next lowest abundant number: '))\n",
    "    isAb = False \n",
    "    while isAb == False:\n",
    "        if ab_checker(m+1) == True:\n",
    "            print(m+1, 'is the next lowest abundant number!')\n",
    "            isAb = True\n",
    "        else:\n",
    "            m = m + 1"
   ]
  },
  {
   "cell_type": "code",
   "execution_count": null,
   "metadata": {},
   "outputs": [],
   "source": [
    "low_ab()"
   ]
  }
 ],
 "metadata": {
  "kernelspec": {
   "display_name": "Python 3",
   "language": "python",
   "name": "python3"
  },
  "language_info": {
   "codemirror_mode": {
    "name": "ipython",
    "version": 3
   },
   "file_extension": ".py",
   "mimetype": "text/x-python",
   "name": "python",
   "nbconvert_exporter": "python",
   "pygments_lexer": "ipython3",
   "version": "3.7.3"
  }
 },
 "nbformat": 4,
 "nbformat_minor": 2
}
