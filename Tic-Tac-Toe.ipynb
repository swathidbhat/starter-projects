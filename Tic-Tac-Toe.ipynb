{
 "cells": [
  {
   "cell_type": "code",
   "execution_count": null,
   "metadata": {},
   "outputs": [],
   "source": [
    "# In designing this program, the following were considered core properties of a game: \n",
    "# 1 - state of the game (playground)\n",
    "# 2 - rules that govern outcomes of win, loss or tie\n",
    "# 3 - player's decision that changes state of the game\n",
    "# 4 - outcomes of win, loss or tie based on the rules and state"
   ]
  },
  {
   "cell_type": "code",
   "execution_count": null,
   "metadata": {},
   "outputs": [],
   "source": [
    "# Creating a visual 'playground'\n",
    "# function accepts a list and displays items of the list on a tic-tac-toe board \n",
    "def playground(board):\n",
    "    print(board[1] + '|' + board[2] + '|' + board[3])\n",
    "    print(board[4] + '|' + board[5] + '|' + board[6])\n",
    "    print(board[7] + '|' + board[8] + '|' + board[9])"
   ]
  },
  {
   "cell_type": "code",
   "execution_count": null,
   "metadata": {},
   "outputs": [],
   "source": [
    "game_board = ['#', '1', '2', '3', '4', '5', '6', '7', '8', '9']\n",
    "playground(game_board)"
   ]
  },
  {
   "cell_type": "code",
   "execution_count": null,
   "metadata": {},
   "outputs": [],
   "source": [
    "num_list = []\n",
    "n = 1\n",
    "while n < 10:\n",
    "    num = str(n)\n",
    "    num_list.append(num)\n",
    "    n += 1\n",
    "# return num_list\n",
    "print(num_list)"
   ]
  },
  {
   "cell_type": "code",
   "execution_count": null,
   "metadata": {},
   "outputs": [],
   "source": [
    "# Stages\n",
    "# Accept User Input for X or O \n",
    "# Accept User Input for location in the game board \n",
    "# Update User Input on the Game Board \n",
    "# Decide if there is a win\n",
    "# Continue game or exit game "
   ]
  },
  {
   "cell_type": "code",
   "execution_count": null,
   "metadata": {},
   "outputs": [],
   "source": [
    "# Step 2: Accept User Input for Location on Board \n",
    "# pos = input('Please pick a position on the board')\n",
    "\n",
    "def get_pos():\n",
    "    pos = 'wrong'\n",
    "    while pos not in num_list:\n",
    "        pos = input('Please pick a position on the board and enter the corresponding number')\n",
    "        \n",
    "        if pos not in num_list:\n",
    "            print('Sorry, that was not a correct position. Please enter a number')\n",
    "    if pos in num_list:\n",
    "        try:\n",
    "            position = int(pos)\n",
    "        except:\n",
    "            print('Sorry, that was not a numerical. Please enter a number')       \n",
    "    print( position)\n",
    "    return position\n",
    "    \n",
    "#functionality to add: disable players from chosing a position that's already taken. "
   ]
  },
  {
   "cell_type": "code",
   "execution_count": null,
   "metadata": {},
   "outputs": [],
   "source": [
    "#Step 3: Update user input on the game board\n",
    "def update_board(position, move):\n",
    "    game_board[position] = move\n",
    "    playground(game_board)\n"
   ]
  },
  {
   "cell_type": "code",
   "execution_count": null,
   "metadata": {},
   "outputs": [],
   "source": [
    "def check_win():\n",
    "    game = True\n",
    "    row_1 = game_board[1:4]\n",
    "    row_2 = game_board[4:7]\n",
    "    row_3 = game_board[7:]\n",
    "    rows_list = [row_1, row_2, row_3]\n",
    "    x = 0\n",
    "    for i in range (0, 3):\n",
    "        if (row_1[x] == row_2[x] == row_3[x]) or (rows_list[x][0] == rows_list[x][1] == rows_list[x][2]) or (row_1[0] == row_2[1] == row_3[2]) or (row_1[2] == row_2[1] == row_3[0]):\n",
    "            game = False\n",
    "    return game     \n",
    "    \n",
    "def check_tie():\n",
    "    game = True\n",
    "    y = 0\n",
    "    for i in game_board:\n",
    "        if (i == 'X') or (i == 'O'):\n",
    "            y = y + 1\n",
    "        else:\n",
    "            y = 0\n",
    "    if y == 9:\n",
    "        game = False \n",
    "    return game \n"
   ]
  },
  {
   "cell_type": "code",
   "execution_count": null,
   "metadata": {},
   "outputs": [],
   "source": [
    "game = True\n",
    "turn = 1\n",
    "while game == True:\n",
    "    \n",
    "    if turn%2 == 0:\n",
    "        mov = 'X'\n",
    "    else:\n",
    "        mov = 'O'\n",
    "    playground(game_board)\n",
    "    posit = get_pos()\n",
    "    update_board(posit, mov)\n",
    "#     game_rules()\n",
    "    if check_win() == False:\n",
    "        print ('Congrats! You have won the game')\n",
    "        game = False \n",
    "            \n",
    "    elif check_tie() == False:\n",
    "        print ('It is a tie!')\n",
    "        game = False\n",
    "    else:\n",
    "        print ('Next Player - what is your move?')\n",
    "        turn = turn+1\n",
    "#to add: assign roles to players such as player 1 and player 2 and indicate clearly whose turn it is. "
   ]
  },
  {
   "cell_type": "code",
   "execution_count": null,
   "metadata": {},
   "outputs": [],
   "source": []
  }
 ],
 "metadata": {
  "kernelspec": {
   "display_name": "Python 3",
   "language": "python",
   "name": "python3"
  },
  "language_info": {
   "codemirror_mode": {
    "name": "ipython",
    "version": 3
   },
   "file_extension": ".py",
   "mimetype": "text/x-python",
   "name": "python",
   "nbconvert_exporter": "python",
   "pygments_lexer": "ipython3",
   "version": "3.7.3"
  }
 },
 "nbformat": 4,
 "nbformat_minor": 2
}
